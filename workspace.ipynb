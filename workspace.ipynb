{
 "cells": [
  {
   "cell_type": "code",
   "execution_count": null,
   "metadata": {
    "collapsed": false,
    "scrolled": true
   },
   "outputs": [],
   "source": [
    "require 'dp'\n",
    "require 'torchx'  -- for paths.indexdir\n",
    "require 'csvigo'  -- for parsing formatted text"
   ]
  },
  {
   "cell_type": "code",
   "execution_count": null,
   "metadata": {
    "collapsed": true
   },
   "outputs": [],
   "source": [
    "-- for debug\n",
    "dataPath = '/opt2/data/rgbd/rgbd_dataset_freiburg2_pioneer_360'"
   ]
  },
  {
   "cell_type": "code",
   "execution_count": null,
   "metadata": {
    "collapsed": false,
    "scrolled": false
   },
   "outputs": [],
   "source": [
    "--function rgbd(dataPath, validRatio)\n",
    "    validRatio = validRatio or 0.15  -- last part of seq.\n",
    "    \n",
    "    -- 1. load images into input and target Tensors\n",
    "    local trj = csvigo.load{path=dataPath..'/groundtruth.txt', verbose=false,\n",
    "                            mode='tidy', separator=' ', skip=3, header=false}\n",
    "    local rgb = csvigo.load{path=dataPath..'/rgb.txt', verbose=false,\n",
    "                            mode='tidy', separator=' ', skip=3, header=false}    \n",
    "    local img = paths.indexdir(paths.concat(dataPath, 'rgb'))\n",
    "    \n",
    "    for i=1,3 do -- table.getn(rgb.var_1) do  -- # of rgb images\n",
    "        local ts = rgb.var_1[i]\n",
    "        local filename = rgb.var_2[i]\n",
    "        print(ts)\n",
    "        print(filename)\n",
    "        print(trj{var1=ts})\n",
    "    end\n",
    "--end"
   ]
  },
  {
   "cell_type": "code",
   "execution_count": null,
   "metadata": {
    "collapsed": false
   },
   "outputs": [],
   "source": [
    "rgbd(dataPath)"
   ]
  },
  {
   "cell_type": "code",
   "execution_count": null,
   "metadata": {
    "collapsed": true
   },
   "outputs": [],
   "source": []
  },
  {
   "cell_type": "code",
   "execution_count": null,
   "metadata": {
    "collapsed": true
   },
   "outputs": [],
   "source": []
  }
 ],
 "metadata": {
  "kernelspec": {
   "display_name": "iTorch",
   "language": "lua",
   "name": "itorch"
  },
  "language_info": {
   "name": "lua",
   "version": "20100"
  }
 },
 "nbformat": 4,
 "nbformat_minor": 0
}
