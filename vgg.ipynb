{
 "cells": [
  {
   "cell_type": "code",
   "execution_count": null,
   "metadata": {
    "collapsed": true
   },
   "outputs": [],
   "source": [
    "require 'loadcaffe'\n",
    "require 'rgbd'\n",
    "require 'cutorch'\n",
    "require 'cunn'"
   ]
  },
  {
   "cell_type": "code",
   "execution_count": null,
   "metadata": {
    "collapsed": false
   },
   "outputs": [],
   "source": [
    "--[[load the first convolutional layer of VGGNet]]--\n",
    "prototxt = '/Users/Calvin/Github/caffe/models/VGG_ILSVRC_16_layers/deploy_conv4_features.prototxt'\n",
    "caffemodel = '/Users/Calvin/Github/caffe/models/VGG_ILSVRC_16_layers/VGG_ILSVRC_16_layers.caffemodel'\n",
    "model = loadcaffe.load(prototxt, caffemodel)\n",
    "\n",
    "for i=model:size(),2,-1 do\n",
    "\tmodel:remove(i)\n",
    "end"
   ]
  },
  {
   "cell_type": "code",
   "execution_count": null,
   "metadata": {
    "collapsed": false
   },
   "outputs": [],
   "source": [
    "-- load data set\n",
    "dataPath = '/Volumes/Oculus/data/rgbd/rgbd_dataset_freiburg2_pioneer_360'\n",
    "ds = rgbd(dataPath, false, true)[1]\n",
    "td = rgbd(dataPath, true, true)[1]"
   ]
  },
  {
   "cell_type": "code",
   "execution_count": null,
   "metadata": {
    "collapsed": false
   },
   "outputs": [],
   "source": [
    "conv1 = model:get(1):float()  -- THTensor's default type is float\n",
    "res = conv1:forward(ds:narrow(1,1,2))"
   ]
  },
  {
   "cell_type": "code",
   "execution_count": null,
   "metadata": {
    "collapsed": false,
    "scrolled": true
   },
   "outputs": [],
   "source": [
    "itorch.image(ds[1])"
   ]
  },
  {
   "cell_type": "code",
   "execution_count": null,
   "metadata": {
    "collapsed": false
   },
   "outputs": [],
   "source": [
    "itorch.image(res[1])\n",
    "itorch.image(res[2])"
   ]
  },
  {
   "cell_type": "code",
   "execution_count": null,
   "metadata": {
    "collapsed": false
   },
   "outputs": [],
   "source": [
    "res1 = torch.Tensor(res[1]:size()):copy(res[1]):float()\n",
    "res1:pow(-1)\n",
    "res1:cmul(res[1] - res[2])"
   ]
  },
  {
   "cell_type": "code",
   "execution_count": null,
   "metadata": {
    "collapsed": false,
    "scrolled": true
   },
   "outputs": [],
   "source": [
    "itorch.image(res1*2)"
   ]
  }
 ],
 "metadata": {
  "kernelspec": {
   "display_name": "iTorch",
   "language": "lua",
   "name": "itorch"
  },
  "language_info": {
   "name": "lua",
   "version": "20100"
  }
 },
 "nbformat": 4,
 "nbformat_minor": 0
}
